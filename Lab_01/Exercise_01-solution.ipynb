{
 "cells": [
  {
   "cell_type": "markdown",
   "metadata": {},
   "source": [
    "# Possible solutions (NOT ONLY!) for PC_LAB 1"
   ]
  },
  {
   "cell_type": "markdown",
   "metadata": {
    "id": "d0ljbmCnR5fV"
   },
   "source": [
    "# Exercise 1.4.1"
   ]
  },
  {
   "cell_type": "markdown",
   "metadata": {
    "id": "p1-V6NlIR23c"
   },
   "source": [
    "print the following pattern\n",
    "\n",
    "![image.png](data:image/png;base64,iVBORw0KGgoAAAANSUhEUgAAAE8AAACwCAYAAABO8DNKAAAEBElEQVR4nO2csXGrQBRF7/5xEVYnUuYOIFTo0CX8DqAEdwChS3CGOkFd7A+QJbSgP4a7gt3lnhkHZiSzPoCkdzSDsdZaiFn8WXsBMSN5BHfyznUOY3LU597GUzncJjqsQ1PAIqts2/1mC8AWjfsoYa21xlr3DeOE0hyAxuLt2+CABvbvfp0jGzgvw017vFcZdgcDIEPVStxDxk/I7nKFrtf/MiqvKWCB7kf+HjOU1xQWyGzV/kgsrPyN48hrbZX1L9fu8s2qdvGFxcCdvNEzrSl0+T5g5KOK+C0azwgkj0DyCCSPQPIIJI9A8ggkj0DyCDxm+BNKY2DKU/8vos7dbQnhzmtUhm8rm/Ue31ZZ72+lh/cMf65z7Ooj2k/gY1fj2H7h+Or5iIfCmNG2yi4xtOt607hU6A2U6Kdk+E7+HPFx4T/DX173ACT9emet9wzfK9EXiSlXaL8Zvife2p/LN93vQPxl+NEz7XIwEr18leEJNJ4RSB6B5BFIHoHkEUgegeQRSB6B5BEEk+FPpYExJe6eXeeDbUHhzmvrZXgnSrSVzQJvgiM97yasKaYH0auwOf/89TmdyNBzVnAZ/hZiw09Z4WX4iCJqYBn+8ro3+6xflqAy/K08xxFRA8rwzr6cd+4QCSTDjz8u9K8wleEJNJ4RSB6B5BFIHoHkEUgegeQRSB6B5BGkkeHPNXJjkN8vHOVgm2fceS3aDO9EiTkVfCpJZfjreptikRKdVobvhdglSnRyGX7J25mkleEv7XHuWT+VhDJ8r0QvdDuTZDK8u6/7Tw3PIY0MP7rG599MTBmeQOMZgeQRSB6B5BFIHoHkEUgegeQRSB6BMjyz7uGYuMEMP3PdyvDEupXhb3uevG5l+LtdT1u3Mvx119PXrQxPrFsZnli3MjyxbmV4Ao1nBJJHIHkEkkcgeQSSRyB5BJJHIHkEyvAMwzFxgxl+JsrwBMrwBMrwBMrwBMrwBMrwBMrwBMrwBBrPCCSPQPIIJI9A8ggkj0DyCCSPQPII0sjwazEcEyPN8CuQVIZfmrQy/MIkl+GXJK0MvzAJZfjlSSbDr0EaGX4llOEJNJ4RSB6B5BFIHoHkEUgegeQRSB6B5BEEk+GjxJ3X1svw8TEy255QmgPQWLx9GxzQwP7d//pgnOscu/qI9hP42NU4tl84vno+4qEwZnTNDB8T4WX4iAgsw8dFUBk+NgLK8PERSIaPE2V4Ao1nBJJHIHkEkkcgeQSSRyB5BJJHIHkEHjP8BnHnNSrDbwzvGX5LvAw37fFeZdgdDIAMVStxDxk/IZ9/c4MU8J/hN4TnDL8t/Gb4jeEvw28QZXgCjWcEkkcgeQSSRyB5BJJHIHkEkkcgeQSSRyB5BP8A6GfFYXaAVpYAAAAASUVORK5CYII=)"
   ]
  },
  {
   "cell_type": "code",
   "execution_count": 1,
   "metadata": {
    "colab": {
     "base_uri": "https://localhost:8080/"
    },
    "executionInfo": {
     "elapsed": 760,
     "status": "ok",
     "timestamp": 1675932509968,
     "user": {
      "displayName": "Jan Bolcek",
      "userId": "11245949610672084450"
     },
     "user_tz": -60
    },
    "id": "opENWOQELhKW",
    "outputId": "a46ce07a-8f15-4e70-8496-21f209a8da1f"
   },
   "outputs": [
    {
     "name": "stdout",
     "output_type": "stream",
     "text": [
      "X\n",
      "X X\n",
      "X X X\n",
      "X X X X\n",
      "X X X X X\n",
      "X X X X\n",
      "X X X\n",
      "X X\n",
      "X\n"
     ]
    }
   ],
   "source": [
    "def draw_pattern(max_width: int) -> None:\n",
    "    height = 2*max_width-1              #firstly we calculate number of rows in our pattern\n",
    "    container = []                      # we inicialize a list that will be used as container for our 'X' chars\n",
    "\n",
    "    for row in range(height):           #we will iterate over every rows\n",
    "        container.append('X') if row<max_width else container.pop()   # when the number of 'X' is ascending, we add 'X' when descending, we remove 'X'\n",
    "        print(' '.join(container))      #using join function (https://www.w3schools.com/python/ref_string_join.asp) we join all items in our list container into string\n",
    "\n",
    "draw_pattern(5)"
   ]
  },
  {
   "cell_type": "markdown",
   "metadata": {
    "id": "1kfCfkREqfgR"
   },
   "source": [
    "# Exercise 1.4.2"
   ]
  },
  {
   "cell_type": "markdown",
   "metadata": {
    "id": "WB6zYBSWOcv7"
   },
   "source": [
    "The logic in this exercise is simple, we are iterating over every charactek in the input string, then we are checking if the characket is digit, if yes, we convert it to integer and add it to summary variable"
   ]
  },
  {
   "cell_type": "code",
   "execution_count": 2,
   "metadata": {
    "colab": {
     "base_uri": "https://localhost:8080/"
    },
    "executionInfo": {
     "elapsed": 333,
     "status": "ok",
     "timestamp": 1675932515138,
     "user": {
      "displayName": "Jan Bolcek",
      "userId": "11245949610672084450"
     },
     "user_tz": -60
    },
    "id": "vRgyTgbFqiVg",
    "outputId": "8d6ef10d-0e6d-4a38-91a0-55ae4da64b57"
   },
   "outputs": [
    {
     "name": "stdout",
     "output_type": "stream",
     "text": [
      "34\n"
     ]
    }
   ],
   "source": [
    "''' in this algorithm, we iterate over every character in the string, in each iteration we check if the character is a digit,\n",
    "if yes, we convert it into an integer and add it into the variable called total'''\n",
    "\n",
    "\n",
    "input_str = \"n45as29@#8ss6\"\n",
    "total = 0\n",
    "\n",
    "for char in input_str:            \n",
    "    if char.isdigit():\n",
    "        total += int(char)\n",
    "\n",
    "print(total)"
   ]
  },
  {
   "cell_type": "markdown",
   "metadata": {
    "id": "qpgyWf3SRgPv"
   },
   "source": [
    "# Exercise 1.4.3"
   ]
  },
  {
   "cell_type": "markdown",
   "metadata": {},
   "source": [
    "Write a script that will convert an arbitrary integer to a binary number (the number will be represented as a string with only *0* and *1*). Avoid using the *bin()* function or any other pythons default functions"
   ]
  },
  {
   "cell_type": "code",
   "execution_count": 3,
   "metadata": {
    "colab": {
     "base_uri": "https://localhost:8080/"
    },
    "executionInfo": {
     "elapsed": 6,
     "status": "ok",
     "timestamp": 1675629085258,
     "user": {
      "displayName": "Jan Bolcek",
      "userId": "11245949610672084450"
     },
     "user_tz": -60
    },
    "id": "6P6CECufRjcG",
    "outputId": "f524f404-f5d0-4653-b578-c1bc38c1e2d7"
   },
   "outputs": [
    {
     "name": "stdout",
     "output_type": "stream",
     "text": [
      "101000\n"
     ]
    }
   ],
   "source": [
    "# this algorithm only follows the decimal to binary conversion. Described here: https://www.cuemath.com/numbers/decimal-to-binary/\n",
    "\n",
    "a = 40\n",
    "result = []\n",
    "\n",
    "while a != 0:\n",
    "    b = a%2\n",
    "    result.append(b)\n",
    "    a = a//2\n",
    "\n",
    "result = list(map(str,result))[::-1]\n",
    "print(''.join(result))"
   ]
  },
  {
   "cell_type": "markdown",
   "metadata": {
    "id": "DhaDV--E4oqK"
   },
   "source": [
    "# Exercise 1.5-1:"
   ]
  },
  {
   "cell_type": "markdown",
   "metadata": {},
   "source": [
    "The Fibonacci Sequence is a series of numbers. The next number is found by adding up the two numbers before it. The first two numbers are 0 and 1. For example, 0, 1, 1, 2, 3, 5, 8, 13. The next number in this series above is 8 + 13 = 21\n",
    "\n",
    "Create a function that takes an integer as an input and returns a list that contains all Fibonacci numbers smaller than the input integer\n",
    "\n",
    "example:\n",
    "\n",
    "*print(fibonaci(10))*\n",
    "\n",
    "[0, 1, 1, 2, 3, 5, 8]"
   ]
  },
  {
   "cell_type": "code",
   "execution_count": 4,
   "metadata": {
    "id": "9SwvzmxD4roo"
   },
   "outputs": [],
   "source": [
    "def fibonaci(upper_threshold: int) -> list:\n",
    "    results = [0, 1]\n",
    "\n",
    "    while results[-1] + results[-2] < upper_threshold:\n",
    "        results.append(results[-1] + results[-2]) \n",
    "\n",
    "    return results"
   ]
  },
  {
   "cell_type": "code",
   "execution_count": 5,
   "metadata": {
    "colab": {
     "base_uri": "https://localhost:8080/"
    },
    "executionInfo": {
     "elapsed": 6,
     "status": "ok",
     "timestamp": 1675617013086,
     "user": {
      "displayName": "Jan Bolcek",
      "userId": "11245949610672084450"
     },
     "user_tz": -60
    },
    "id": "XorQJIkM4tSA",
    "outputId": "75d0538d-ff3e-435e-e4b6-f6fbad6e8bf4"
   },
   "outputs": [
    {
     "name": "stdout",
     "output_type": "stream",
     "text": [
      "[0, 1, 1, 2, 3, 5, 8, 13]\n"
     ]
    }
   ],
   "source": [
    "print(fibonaci(21))"
   ]
  },
  {
   "cell_type": "markdown",
   "metadata": {
    "id": "uugWdASzj1Yg"
   },
   "source": [
    "# Exercise 1.5-2:\n",
    "\n",
    "implement function *display_as_digi* that will print an arbitrary integer in segment display style\n",
    "\n",
    "\n",
    "example:\n",
    "\n",
    "*display_as_digi(588)*\n",
    "\n",
    "\n",
    "![digit.png](data:image/png;base64,iVBORw0KGgoAAAANSUhEUgAAAGgAAABcCAIAAAANlWdNAAAAAXNSR0IArs4c6QAAAARnQU1BAACxjwv8YQUAAAAJcEhZcwAADsMAAA7DAcdvqGQAAAUQSURBVHhe7ZrBUSw7DEV/KuRBEKRABD8BAiAA9qwJgBzIgS1btmz5p+Y2Kle3pbY0s/s6i1d2j+ZKunbPK7v457cp0cYVaeOKtHFF2rgic+M+Pz/v7+/f3t40fX5+fnh4+P7+/vj4uLu7418e/vz8/HuBgQXwfPfdIymRMWD33SkpEa9NTWPcHYcuokgzGOVIoykDK0WVkVgDK8UjJUIYwUw1CFyDrIjX5inRq0qap6cn0u9qpayXl5fHx0fybY8ulfHk9fWVeBkRkxIhhufE863tkU9WxGszJjLOVm+b/6FFs8U0bPW2eUhWhMj1HZES8dqMiYxDS+s2tqc07+/vVDAukdZTz0/by4oQQ/zids6KTNs8JfqNU2LqYGCrh7oSWwAPZYQSUwdcYl1SInxKDJFjgEdWxGvzlLlxyI3/eZFeO5989gqoApJ9fX0xAJ7wnE+JsYqPpETUsKmpMM87qa2LeG1qGhO9qk1AG1ekjSvSxhVp44q0cUXauCJtXJE2rkgbV2RunA4rdrLhLMKRhYOLplcyHnR2h6Qju4DdIenIWOquiyPXtOnuOIrTwY3BDV0T1CpNBoFrgjCCidQgcA1kNBZoELgmym1GrypZCzd8i9Db8SLTg5jpHeQUmid48Q4Kam1GxtnqbfObYvtom59B5PqOsH20zUNqbUbGoVW44VtBtR4vMj2IIf7Ki0yPWpvRb5wSUweDxdVbhBJlgWXZPpihvUmk7I7bG2NwBPTco9zm3Djkyjd8p9CVqanPwDu5Zv2rMM87qQEDpqQgUeDdNW1Gr2oT0MYVaeOKtHFF2rgibVyRNq5IG1ekjSvSxhVp44rMjdMpz46EHOJ0nBwPd+PB0AJ4vvvukZTIGLD77pSUiNempjHujkMXUaQZjHKk0ZSBlaLKSKyBleKREiGMYKYaBK5BVsRr85ToVSVN/ymrR2Scrd42/0OLZotp2Opt85CsCJHrOyIl4rUZExmH1vFqVGnW/wp1SlaEGOIXt3NWZNrmKdFvnBJTBwNbPdSV2AJ4KCOUmDrgEuuSEuFTYogcAzyyIl6bp8yNQ256NUo+ewVUAcn6T1mbBG1ckTauSBtXpI0r0sYVaeOKtHFF2rgibVyR2xjHYYUzDScbxjroeKciGA86u0PSkV3A7pB0JFXJLmD87im3MU7tkViDoFZBgEpkYKZ46KRJpAaBa5CtBDWdTxmsuwY3e1VJOb0+9KC340WmBzFEXnmR6YG5N77IzGKrt81DbB9t8zOIXN8RqUpsk27zNW5mnDbFlReZHsQQf+VFpgeW3fIiM4WMUGLqOF09ImUBjpy2p71J5JjFI1uJFYDdDBY3KdzAONUKDJiSm9ckqJiu7D3SdwPv5Jqp0WfhIlOfHpEa/2pK5PoLfsvfuP8VbVyRNq5IG1ekjSvSxhVp44q0cUXauCJtXJG5cTqs2MmGs4hOReMZZTzfWADPd989khIZA3bfnZIS8drUNMbdcegiijSDUY40mjKwUlQZiTWwUjxSIoQRzFSDwDXIinhtnhK9qqTpv8j0iIyz1dvmf2jRbDENW71tHpIVIXJ9R6REvDZjIuPQOt7wKc3xDlLreeVFpidCDPGL2zkrMm3zlOg3Tompg4GtHupKbAE8lBFKTB1wiXVJifApMUSOAR5ZEa/NU+bGITe94SOfvQKqgGT9F5lNgjauSBtXpI0r0sYVaeOKtHFF2rgibVyRNq5IG1fi9/c/pr/ZCf8bc3sAAAAASUVORK5CYII=)"
   ]
  },
  {
   "cell_type": "code",
   "execution_count": 6,
   "metadata": {
    "colab": {
     "base_uri": "https://localhost:8080/"
    },
    "executionInfo": {
     "elapsed": 546,
     "status": "ok",
     "timestamp": 1675796113013,
     "user": {
      "displayName": "Jan Bolcek",
      "userId": "11245949610672084450"
     },
     "user_tz": -60
    },
    "id": "uxDJwxvgj5jw",
    "outputId": "b3bbcf0e-21f8-4364-90e4-741d94b5696c"
   },
   "outputs": [
    {
     "name": "stdout",
     "output_type": "stream",
     "text": [
      "xxx xxx xxx\n",
      "x   x   x x\n",
      "xxx xxx xxx\n",
      "  x x x x x\n",
      "xxx xxx xxx\n",
      "\n"
     ]
    }
   ],
   "source": [
    "def display_as_digi(number: int) -> None:\n",
    "    # Firstly we need to define all numbers in segment display style, it can be \n",
    "\n",
    "    numbers = {1: ['  x', '  x', '  x', '  x', '  x'],\n",
    "               2: ['xxx', '  x', 'xxx', 'x  ', 'xxx'],\n",
    "               3: ['xxx', '  x', 'xxx', '  x', 'xxx'],\n",
    "               4: ['x x', 'x x', 'xxx', '  x', '  x'],\n",
    "               5: ['xxx', 'x  ', 'xxx', '  x', 'xxx'],\n",
    "               6: ['xxx', 'x  ', 'xxx', 'x x', 'xxx'],\n",
    "               7: ['xxx', '  x', '  x', '  x', '  x'],\n",
    "               8: ['xxx', 'x x', 'xxx', 'x x', 'xxx'],\n",
    "               9: ['xxx', 'x x', 'xxx', '  x', '  x']}\n",
    "\n",
    "    full_text = ''\n",
    "    number_str = str(number) # to be able to iterate over each digit in the input number we need to convect the input number from int to string\n",
    "    \n",
    "    # each number has 5 rows of characters, we need to print all numbers row by row\n",
    "    for row in range(5):\n",
    "        full_text += ' '.join([numbers[int(digit)][row] for digit in number_str])\n",
    "        full_text += '\\n'\n",
    "\n",
    "    print(full_text)\n",
    "\n",
    "\n",
    "display_as_digi(568)\n"
   ]
  },
  {
   "cell_type": "markdown",
   "metadata": {
    "id": "8S9oLh5SbJZX"
   },
   "source": [
    "# Exercise 2"
   ]
  },
  {
   "cell_type": "markdown",
   "metadata": {
    "id": "gUpSi4W7jaPM"
   },
   "source": [
    "1"
   ]
  },
  {
   "cell_type": "markdown",
   "metadata": {},
   "source": [
    "- Create a numpy array with shape 5x5, that contains numbers from 25..to 0\n",
    "- create a function that takes an arbitrary numpy array as an input and sets all numbers smaller than the user-defined threshold to 0\n",
    "- test your function on your array\n",
    "- make one implementation using loops and one without using loops, compare execution time with *time* library"
   ]
  },
  {
   "cell_type": "code",
   "execution_count": 7,
   "metadata": {
    "colab": {
     "base_uri": "https://localhost:8080/"
    },
    "executionInfo": {
     "elapsed": 355,
     "status": "ok",
     "timestamp": 1675631736414,
     "user": {
      "displayName": "Jan Bolcek",
      "userId": "11245949610672084450"
     },
     "user_tz": -60
    },
    "id": "4YFYEK6Sx6xB",
    "outputId": "9b4d309f-d51c-4999-8126-cb5a0df96837"
   },
   "outputs": [
    {
     "name": "stdout",
     "output_type": "stream",
     "text": [
      "[[ 0  0  0  0  0]\n",
      " [ 0  0  0  0  0]\n",
      " [ 0  0  0  0  0]\n",
      " [ 0  0  0  0  0]\n",
      " [20 21 22 23 24]]\n",
      "[[ 0  0  0  0  0]\n",
      " [ 0  0  0  0  0]\n",
      " [ 0  0  0  0  0]\n",
      " [ 0  0  0  0  0]\n",
      " [20 21 22 23 24]]\n",
      "It took 0.00045037269592285156s to execute no_loops function and 0.00031280517578125s to execute loops function\n"
     ]
    }
   ],
   "source": [
    "import numpy as np\n",
    "import time \n",
    "import copy\n",
    "\n",
    "my_array = np.arange(25).reshape((5,5))         \n",
    "\n",
    "def set_to_zero_no_loops(input_array: np.array, threshold: int)-> np.array:\n",
    "    i,j = np.where(input_array < threshold)\n",
    "    input_array[i,j] = 0\n",
    "\n",
    "    return input_array\n",
    "\n",
    "def set_to_zero_loops(input_array: np.array, threshold: int)-> np.array:\n",
    "    inp_new = copy.copy(input_array)\n",
    "    \n",
    "    for row_id in range(input_array.shape[0]):\n",
    "        for element_id in range(input_array.shape[1]):\n",
    "            if input_array[row_id][element_id] < threshold:\n",
    "                inp_new[row_id][element_id] = 0\n",
    "    \n",
    "    return inp_new\n",
    "\n",
    "t1_start = time.time()\n",
    "print(set_to_zero_no_loops(my_array, 20))\n",
    "t1_end = time.time()\n",
    "\n",
    "t2_start = time.time()\n",
    "print(set_to_zero_loops(my_array, 20))\n",
    "t2_end = time.time()\n",
    "\n",
    "\n",
    "print(f'It took {t1_end - t1_start}s to execute no_loops function and {t2_end - t2_start}s to execute loops function')\n",
    "\n"
   ]
  },
  {
   "cell_type": "markdown",
   "metadata": {
    "id": "Gaq32UAi4EKy"
   },
   "source": [
    "# New Section"
   ]
  },
  {
   "cell_type": "markdown",
   "metadata": {
    "id": "jXTJw0uujbcv"
   },
   "source": [
    "2"
   ]
  },
  {
   "cell_type": "code",
   "execution_count": 8,
   "metadata": {
    "colab": {
     "base_uri": "https://localhost:8080/",
     "height": 146
    },
    "executionInfo": {
     "elapsed": 414,
     "status": "ok",
     "timestamp": 1675634422125,
     "user": {
      "displayName": "Jan Bolcek",
      "userId": "11245949610672084450"
     },
     "user_tz": -60
    },
    "id": "qhD6ttIojcc0",
    "outputId": "25460435-a000-4d7e-9062-cf92b7695c4c"
   },
   "outputs": [
    {
     "data": {
      "image/png": "[encoded data removed]",
      "text/plain": [
       "<Figure size 432x288 with 1 Axes>"
      ]
     },
     "metadata": {
      "needs_background": "light"
     },
     "output_type": "display_data"
    }
   ],
   "source": [
    "import matplotlib.pyplot as plt\n",
    "\n",
    "# The logic is very similar to in Exercise 1.5-2, but we use 0 and 1 instead of ' ' and 'X', and we use np.concatenate instead of .join()\n",
    "\n",
    "def digi_picture(input_value: int) -> None:\n",
    "    numbers = {1: np.array([[0,0,1], [0,0,1], [1,1,1], [0,0,1], [0,0,1]]),\n",
    "               5: np.array([[1,1,1], [1,0,0], [1,1,1], [0,0,1], [1,1,1]]),\n",
    "               3: np.array([[1,1,1], [0,0,1], [1,1,1], [0,0,1], [1,1,1]]),\n",
    "               4: np.array([[1,0,1], [1,0,1], [1,1,1], [1,1,1], [1,1,1]]),\n",
    "               2: np.array([[1,1,1], [0,0,1], [1,1,1], [1,0,0], [1,1,1]]),\n",
    "               6: np.array([[1,1,1], [1,0,0], [1,1,1], [1,0,1], [1,1,1]]),\n",
    "               7: np.array([[1,1,1], [0,0,1], [0,0,1], [0,0,1], [0,0,1]]),\n",
    "               8: np.array([[1,1,1], [1,0,1], [1,1,1], [1,0,1], [1,1,1]]),\n",
    "               9: np.array([[1,1,1], [1,0,1], [1,1,1],[0,0,1], [0,0,1]])}\n",
    "\n",
    "    input_str = str(input_value)\n",
    "    zero_line = np.zeros((5,1))\n",
    "    all_digit = zero_line\n",
    "\n",
    "    for digit in input_str:\n",
    "        all_digit = np.concatenate((all_digit, numbers[int(digit)]), axis=1)\n",
    "        all_digit = np.concatenate((all_digit, zero_line),axis=1)\n",
    "  \n",
    "\n",
    "    plt.imshow(all_digit, cmap='gray')\n",
    "    plt.show()\n",
    "\n",
    "digi_picture(5289)"
   ]
  },
  {
   "cell_type": "markdown",
   "metadata": {
    "id": "Z13gX7xpeR7z"
   },
   "source": [
    "# Exercise 3"
   ]
  },
  {
   "cell_type": "code",
   "execution_count": 9,
   "metadata": {
    "executionInfo": {
     "elapsed": 433,
     "status": "ok",
     "timestamp": 1675924435069,
     "user": {
      "displayName": "Jan Bolcek",
      "userId": "11245949610672084450"
     },
     "user_tz": -60
    },
    "id": "aqKsSdtb4Nmq"
   },
   "outputs": [],
   "source": [
    "import pandas as pd\n",
    "import matplotlib.pyplot as plt\n",
    "import numpy as np"
   ]
  },
  {
   "cell_type": "code",
   "execution_count": 10,
   "metadata": {
    "executionInfo": {
     "elapsed": 778,
     "status": "ok",
     "timestamp": 1675924441514,
     "user": {
      "displayName": "Jan Bolcek",
      "userId": "11245949610672084450"
     },
     "user_tz": -60
    },
    "id": "hT6UbmToeS8P"
   },
   "outputs": [],
   "source": [
    "pd_dataset = pd.read_csv('housing.csv')"
   ]
  },
  {
   "cell_type": "code",
   "execution_count": 11,
   "metadata": {
    "colab": {
     "base_uri": "https://localhost:8080/",
     "height": 364
    },
    "executionInfo": {
     "elapsed": 242,
     "status": "ok",
     "timestamp": 1675924468582,
     "user": {
      "displayName": "Jan Bolcek",
      "userId": "11245949610672084450"
     },
     "user_tz": -60
    },
    "id": "Zf_v14bt4WNd",
    "outputId": "42172609-2220-4774-b7a2-537b4085e85c"
   },
   "outputs": [
    {
     "data": {
      "text/html": [
       "<div>\n",
       "<style scoped>\n",
       "    .dataframe tbody tr th:only-of-type {\n",
       "        vertical-align: middle;\n",
       "    }\n",
       "\n",
       "    .dataframe tbody tr th {\n",
       "        vertical-align: top;\n",
       "    }\n",
       "\n",
       "    .dataframe thead th {\n",
       "        text-align: right;\n",
       "    }\n",
       "</style>\n",
       "<table border=\"1\" class=\"dataframe\">\n",
       "  <thead>\n",
       "    <tr style=\"text-align: right;\">\n",
       "      <th></th>\n",
       "      <th>longitude</th>\n",
       "      <th>latitude</th>\n",
       "      <th>housing_median_age</th>\n",
       "      <th>total_rooms</th>\n",
       "      <th>total_bedrooms</th>\n",
       "      <th>population</th>\n",
       "      <th>households</th>\n",
       "      <th>median_income</th>\n",
       "      <th>median_house_value</th>\n",
       "    </tr>\n",
       "  </thead>\n",
       "  <tbody>\n",
       "    <tr>\n",
       "      <th>count</th>\n",
       "      <td>20640.000000</td>\n",
       "      <td>20640.000000</td>\n",
       "      <td>20640.000000</td>\n",
       "      <td>20640.000000</td>\n",
       "      <td>20433.000000</td>\n",
       "      <td>20640.000000</td>\n",
       "      <td>20640.000000</td>\n",
       "      <td>20640.000000</td>\n",
       "      <td>20640.000000</td>\n",
       "    </tr>\n",
       "    <tr>\n",
       "      <th>mean</th>\n",
       "      <td>-119.569704</td>\n",
       "      <td>35.631861</td>\n",
       "      <td>28.639486</td>\n",
       "      <td>2635.763081</td>\n",
       "      <td>537.870553</td>\n",
       "      <td>1425.476744</td>\n",
       "      <td>499.539680</td>\n",
       "      <td>3.870671</td>\n",
       "      <td>206855.816909</td>\n",
       "    </tr>\n",
       "    <tr>\n",
       "      <th>std</th>\n",
       "      <td>2.003532</td>\n",
       "      <td>2.135952</td>\n",
       "      <td>12.585558</td>\n",
       "      <td>2181.615252</td>\n",
       "      <td>421.385070</td>\n",
       "      <td>1132.462122</td>\n",
       "      <td>382.329753</td>\n",
       "      <td>1.899822</td>\n",
       "      <td>115395.615874</td>\n",
       "    </tr>\n",
       "    <tr>\n",
       "      <th>min</th>\n",
       "      <td>-124.350000</td>\n",
       "      <td>32.540000</td>\n",
       "      <td>1.000000</td>\n",
       "      <td>2.000000</td>\n",
       "      <td>1.000000</td>\n",
       "      <td>3.000000</td>\n",
       "      <td>1.000000</td>\n",
       "      <td>0.499900</td>\n",
       "      <td>14999.000000</td>\n",
       "    </tr>\n",
       "    <tr>\n",
       "      <th>25%</th>\n",
       "      <td>-121.800000</td>\n",
       "      <td>33.930000</td>\n",
       "      <td>18.000000</td>\n",
       "      <td>1447.750000</td>\n",
       "      <td>296.000000</td>\n",
       "      <td>787.000000</td>\n",
       "      <td>280.000000</td>\n",
       "      <td>2.563400</td>\n",
       "      <td>119600.000000</td>\n",
       "    </tr>\n",
       "    <tr>\n",
       "      <th>50%</th>\n",
       "      <td>-118.490000</td>\n",
       "      <td>34.260000</td>\n",
       "      <td>29.000000</td>\n",
       "      <td>2127.000000</td>\n",
       "      <td>435.000000</td>\n",
       "      <td>1166.000000</td>\n",
       "      <td>409.000000</td>\n",
       "      <td>3.534800</td>\n",
       "      <td>179700.000000</td>\n",
       "    </tr>\n",
       "    <tr>\n",
       "      <th>75%</th>\n",
       "      <td>-118.010000</td>\n",
       "      <td>37.710000</td>\n",
       "      <td>37.000000</td>\n",
       "      <td>3148.000000</td>\n",
       "      <td>647.000000</td>\n",
       "      <td>1725.000000</td>\n",
       "      <td>605.000000</td>\n",
       "      <td>4.743250</td>\n",
       "      <td>264725.000000</td>\n",
       "    </tr>\n",
       "    <tr>\n",
       "      <th>max</th>\n",
       "      <td>-114.310000</td>\n",
       "      <td>41.950000</td>\n",
       "      <td>52.000000</td>\n",
       "      <td>39320.000000</td>\n",
       "      <td>6445.000000</td>\n",
       "      <td>35682.000000</td>\n",
       "      <td>6082.000000</td>\n",
       "      <td>15.000100</td>\n",
       "      <td>500001.000000</td>\n",
       "    </tr>\n",
       "  </tbody>\n",
       "</table>\n",
       "</div>"
      ],
      "text/plain": [
       "          longitude      latitude  housing_median_age   total_rooms  \\\n",
       "count  20640.000000  20640.000000        20640.000000  20640.000000   \n",
       "mean    -119.569704     35.631861           28.639486   2635.763081   \n",
       "std        2.003532      2.135952           12.585558   2181.615252   \n",
       "min     -124.350000     32.540000            1.000000      2.000000   \n",
       "25%     -121.800000     33.930000           18.000000   1447.750000   \n",
       "50%     -118.490000     34.260000           29.000000   2127.000000   \n",
       "75%     -118.010000     37.710000           37.000000   3148.000000   \n",
       "max     -114.310000     41.950000           52.000000  39320.000000   \n",
       "\n",
       "       total_bedrooms    population    households  median_income  \\\n",
       "count    20433.000000  20640.000000  20640.000000   20640.000000   \n",
       "mean       537.870553   1425.476744    499.539680       3.870671   \n",
       "std        421.385070   1132.462122    382.329753       1.899822   \n",
       "min          1.000000      3.000000      1.000000       0.499900   \n",
       "25%        296.000000    787.000000    280.000000       2.563400   \n",
       "50%        435.000000   1166.000000    409.000000       3.534800   \n",
       "75%        647.000000   1725.000000    605.000000       4.743250   \n",
       "max       6445.000000  35682.000000   6082.000000      15.000100   \n",
       "\n",
       "       median_house_value  \n",
       "count        20640.000000  \n",
       "mean        206855.816909  \n",
       "std         115395.615874  \n",
       "min          14999.000000  \n",
       "25%         119600.000000  \n",
       "50%         179700.000000  \n",
       "75%         264725.000000  \n",
       "max         500001.000000  "
      ]
     },
     "execution_count": 11,
     "metadata": {},
     "output_type": "execute_result"
    }
   ],
   "source": [
    "#check what dataset.describe() does\n",
    "pd_dataset.describe()\n"
   ]
  },
  {
   "cell_type": "code",
   "execution_count": 12,
   "metadata": {
    "colab": {
     "base_uri": "https://localhost:8080/",
     "height": 488
    },
    "executionInfo": {
     "elapsed": 357,
     "status": "ok",
     "timestamp": 1675924583365,
     "user": {
      "displayName": "Jan Bolcek",
      "userId": "11245949610672084450"
     },
     "user_tz": -60
    },
    "id": "YJJlhLUH4e_o",
    "outputId": "de5b08f1-e351-4318-f1c2-47ef14815c2c"
   },
   "outputs": [
    {
     "data": {
      "text/html": [
       "<div>\n",
       "<style scoped>\n",
       "    .dataframe tbody tr th:only-of-type {\n",
       "        vertical-align: middle;\n",
       "    }\n",
       "\n",
       "    .dataframe tbody tr th {\n",
       "        vertical-align: top;\n",
       "    }\n",
       "\n",
       "    .dataframe thead th {\n",
       "        text-align: right;\n",
       "    }\n",
       "</style>\n",
       "<table border=\"1\" class=\"dataframe\">\n",
       "  <thead>\n",
       "    <tr style=\"text-align: right;\">\n",
       "      <th></th>\n",
       "      <th>longitude</th>\n",
       "      <th>latitude</th>\n",
       "      <th>housing_median_age</th>\n",
       "      <th>total_rooms</th>\n",
       "      <th>total_bedrooms</th>\n",
       "      <th>population</th>\n",
       "      <th>households</th>\n",
       "      <th>median_income</th>\n",
       "      <th>median_house_value</th>\n",
       "      <th>ocean_proximity</th>\n",
       "    </tr>\n",
       "  </thead>\n",
       "  <tbody>\n",
       "    <tr>\n",
       "      <th>1</th>\n",
       "      <td>-122.22</td>\n",
       "      <td>37.86</td>\n",
       "      <td>21.0</td>\n",
       "      <td>7099.0</td>\n",
       "      <td>1106.0</td>\n",
       "      <td>2401.0</td>\n",
       "      <td>1138.0</td>\n",
       "      <td>8.3014</td>\n",
       "      <td>358500.0</td>\n",
       "      <td>NEAR BAY</td>\n",
       "    </tr>\n",
       "    <tr>\n",
       "      <th>6</th>\n",
       "      <td>-122.25</td>\n",
       "      <td>37.84</td>\n",
       "      <td>52.0</td>\n",
       "      <td>2535.0</td>\n",
       "      <td>489.0</td>\n",
       "      <td>1094.0</td>\n",
       "      <td>514.0</td>\n",
       "      <td>3.6591</td>\n",
       "      <td>299200.0</td>\n",
       "      <td>NEAR BAY</td>\n",
       "    </tr>\n",
       "    <tr>\n",
       "      <th>7</th>\n",
       "      <td>-122.25</td>\n",
       "      <td>37.84</td>\n",
       "      <td>52.0</td>\n",
       "      <td>3104.0</td>\n",
       "      <td>687.0</td>\n",
       "      <td>1157.0</td>\n",
       "      <td>647.0</td>\n",
       "      <td>3.1200</td>\n",
       "      <td>241400.0</td>\n",
       "      <td>NEAR BAY</td>\n",
       "    </tr>\n",
       "    <tr>\n",
       "      <th>8</th>\n",
       "      <td>-122.26</td>\n",
       "      <td>37.84</td>\n",
       "      <td>42.0</td>\n",
       "      <td>2555.0</td>\n",
       "      <td>665.0</td>\n",
       "      <td>1206.0</td>\n",
       "      <td>595.0</td>\n",
       "      <td>2.0804</td>\n",
       "      <td>226700.0</td>\n",
       "      <td>NEAR BAY</td>\n",
       "    </tr>\n",
       "    <tr>\n",
       "      <th>9</th>\n",
       "      <td>-122.25</td>\n",
       "      <td>37.84</td>\n",
       "      <td>52.0</td>\n",
       "      <td>3549.0</td>\n",
       "      <td>707.0</td>\n",
       "      <td>1551.0</td>\n",
       "      <td>714.0</td>\n",
       "      <td>3.6912</td>\n",
       "      <td>261100.0</td>\n",
       "      <td>NEAR BAY</td>\n",
       "    </tr>\n",
       "    <tr>\n",
       "      <th>...</th>\n",
       "      <td>...</td>\n",
       "      <td>...</td>\n",
       "      <td>...</td>\n",
       "      <td>...</td>\n",
       "      <td>...</td>\n",
       "      <td>...</td>\n",
       "      <td>...</td>\n",
       "      <td>...</td>\n",
       "      <td>...</td>\n",
       "      <td>...</td>\n",
       "    </tr>\n",
       "    <tr>\n",
       "      <th>20634</th>\n",
       "      <td>-121.56</td>\n",
       "      <td>39.27</td>\n",
       "      <td>28.0</td>\n",
       "      <td>2332.0</td>\n",
       "      <td>395.0</td>\n",
       "      <td>1041.0</td>\n",
       "      <td>344.0</td>\n",
       "      <td>3.7125</td>\n",
       "      <td>116800.0</td>\n",
       "      <td>INLAND</td>\n",
       "    </tr>\n",
       "    <tr>\n",
       "      <th>20635</th>\n",
       "      <td>-121.09</td>\n",
       "      <td>39.48</td>\n",
       "      <td>25.0</td>\n",
       "      <td>1665.0</td>\n",
       "      <td>374.0</td>\n",
       "      <td>845.0</td>\n",
       "      <td>330.0</td>\n",
       "      <td>1.5603</td>\n",
       "      <td>78100.0</td>\n",
       "      <td>INLAND</td>\n",
       "    </tr>\n",
       "    <tr>\n",
       "      <th>20637</th>\n",
       "      <td>-121.22</td>\n",
       "      <td>39.43</td>\n",
       "      <td>17.0</td>\n",
       "      <td>2254.0</td>\n",
       "      <td>485.0</td>\n",
       "      <td>1007.0</td>\n",
       "      <td>433.0</td>\n",
       "      <td>1.7000</td>\n",
       "      <td>92300.0</td>\n",
       "      <td>INLAND</td>\n",
       "    </tr>\n",
       "    <tr>\n",
       "      <th>20638</th>\n",
       "      <td>-121.32</td>\n",
       "      <td>39.43</td>\n",
       "      <td>18.0</td>\n",
       "      <td>1860.0</td>\n",
       "      <td>409.0</td>\n",
       "      <td>741.0</td>\n",
       "      <td>349.0</td>\n",
       "      <td>1.8672</td>\n",
       "      <td>84700.0</td>\n",
       "      <td>INLAND</td>\n",
       "    </tr>\n",
       "    <tr>\n",
       "      <th>20639</th>\n",
       "      <td>-121.24</td>\n",
       "      <td>39.37</td>\n",
       "      <td>16.0</td>\n",
       "      <td>2785.0</td>\n",
       "      <td>616.0</td>\n",
       "      <td>1387.0</td>\n",
       "      <td>530.0</td>\n",
       "      <td>2.3886</td>\n",
       "      <td>89400.0</td>\n",
       "      <td>INLAND</td>\n",
       "    </tr>\n",
       "  </tbody>\n",
       "</table>\n",
       "<p>14782 rows × 10 columns</p>\n",
       "</div>"
      ],
      "text/plain": [
       "       longitude  latitude  housing_median_age  total_rooms  total_bedrooms  \\\n",
       "1        -122.22     37.86                21.0       7099.0          1106.0   \n",
       "6        -122.25     37.84                52.0       2535.0           489.0   \n",
       "7        -122.25     37.84                52.0       3104.0           687.0   \n",
       "8        -122.26     37.84                42.0       2555.0           665.0   \n",
       "9        -122.25     37.84                52.0       3549.0           707.0   \n",
       "...          ...       ...                 ...          ...             ...   \n",
       "20634    -121.56     39.27                28.0       2332.0           395.0   \n",
       "20635    -121.09     39.48                25.0       1665.0           374.0   \n",
       "20637    -121.22     39.43                17.0       2254.0           485.0   \n",
       "20638    -121.32     39.43                18.0       1860.0           409.0   \n",
       "20639    -121.24     39.37                16.0       2785.0           616.0   \n",
       "\n",
       "       population  households  median_income  median_house_value  \\\n",
       "1          2401.0      1138.0         8.3014            358500.0   \n",
       "6          1094.0       514.0         3.6591            299200.0   \n",
       "7          1157.0       647.0         3.1200            241400.0   \n",
       "8          1206.0       595.0         2.0804            226700.0   \n",
       "9          1551.0       714.0         3.6912            261100.0   \n",
       "...           ...         ...            ...                 ...   \n",
       "20634      1041.0       344.0         3.7125            116800.0   \n",
       "20635       845.0       330.0         1.5603             78100.0   \n",
       "20637      1007.0       433.0         1.7000             92300.0   \n",
       "20638       741.0       349.0         1.8672             84700.0   \n",
       "20639      1387.0       530.0         2.3886             89400.0   \n",
       "\n",
       "      ocean_proximity  \n",
       "1            NEAR BAY  \n",
       "6            NEAR BAY  \n",
       "7            NEAR BAY  \n",
       "8            NEAR BAY  \n",
       "9            NEAR BAY  \n",
       "...               ...  \n",
       "20634          INLAND  \n",
       "20635          INLAND  \n",
       "20637          INLAND  \n",
       "20638          INLAND  \n",
       "20639          INLAND  \n",
       "\n",
       "[14782 rows x 10 columns]"
      ]
     },
     "execution_count": 12,
     "metadata": {},
     "output_type": "execute_result"
    }
   ],
   "source": [
    "# display all rows where *total_bedrooms* is bigger than 310\n",
    "\n",
    "pd_dataset_selection = pd_dataset[pd_dataset['total_bedrooms'] > 310]\n",
    "pd_dataset_selection"
   ]
  },
  {
   "cell_type": "code",
   "execution_count": 13,
   "metadata": {
    "colab": {
     "base_uri": "https://localhost:8080/",
     "height": 488
    },
    "executionInfo": {
     "elapsed": 830,
     "status": "ok",
     "timestamp": 1675925303011,
     "user": {
      "displayName": "Jan Bolcek",
      "userId": "11245949610672084450"
     },
     "user_tz": -60
    },
    "id": "tyQNKGL44jDA",
    "outputId": "54a6cc5c-0c03-4632-d381-5a5e3062f802"
   },
   "outputs": [
    {
     "data": {
      "text/html": [
       "<div>\n",
       "<style scoped>\n",
       "    .dataframe tbody tr th:only-of-type {\n",
       "        vertical-align: middle;\n",
       "    }\n",
       "\n",
       "    .dataframe tbody tr th {\n",
       "        vertical-align: top;\n",
       "    }\n",
       "\n",
       "    .dataframe thead th {\n",
       "        text-align: right;\n",
       "    }\n",
       "</style>\n",
       "<table border=\"1\" class=\"dataframe\">\n",
       "  <thead>\n",
       "    <tr style=\"text-align: right;\">\n",
       "      <th></th>\n",
       "      <th>longitude</th>\n",
       "      <th>latitude</th>\n",
       "      <th>housing_median_age</th>\n",
       "      <th>total_rooms</th>\n",
       "      <th>total_bedrooms</th>\n",
       "      <th>population</th>\n",
       "      <th>households</th>\n",
       "      <th>median_income</th>\n",
       "      <th>median_house_value</th>\n",
       "      <th>ocean_proximity</th>\n",
       "    </tr>\n",
       "  </thead>\n",
       "  <tbody>\n",
       "    <tr>\n",
       "      <th>1</th>\n",
       "      <td>-122.22</td>\n",
       "      <td>37.86</td>\n",
       "      <td>21.0</td>\n",
       "      <td>7099.0</td>\n",
       "      <td>1106.0</td>\n",
       "      <td>2401.0</td>\n",
       "      <td>1138.0</td>\n",
       "      <td>8.3014</td>\n",
       "      <td>358500.0</td>\n",
       "      <td>NEAR BAY</td>\n",
       "    </tr>\n",
       "    <tr>\n",
       "      <th>2</th>\n",
       "      <td>-122.24</td>\n",
       "      <td>37.85</td>\n",
       "      <td>52.0</td>\n",
       "      <td>1467.0</td>\n",
       "      <td>190.0</td>\n",
       "      <td>496.0</td>\n",
       "      <td>177.0</td>\n",
       "      <td>7.2574</td>\n",
       "      <td>352100.0</td>\n",
       "      <td>NEAR BAY</td>\n",
       "    </tr>\n",
       "    <tr>\n",
       "      <th>3</th>\n",
       "      <td>-122.25</td>\n",
       "      <td>37.85</td>\n",
       "      <td>52.0</td>\n",
       "      <td>1274.0</td>\n",
       "      <td>235.0</td>\n",
       "      <td>558.0</td>\n",
       "      <td>219.0</td>\n",
       "      <td>5.6431</td>\n",
       "      <td>341300.0</td>\n",
       "      <td>NEAR BAY</td>\n",
       "    </tr>\n",
       "    <tr>\n",
       "      <th>4</th>\n",
       "      <td>-122.25</td>\n",
       "      <td>37.85</td>\n",
       "      <td>52.0</td>\n",
       "      <td>1627.0</td>\n",
       "      <td>280.0</td>\n",
       "      <td>565.0</td>\n",
       "      <td>259.0</td>\n",
       "      <td>3.8462</td>\n",
       "      <td>342200.0</td>\n",
       "      <td>NEAR BAY</td>\n",
       "    </tr>\n",
       "    <tr>\n",
       "      <th>5</th>\n",
       "      <td>-122.25</td>\n",
       "      <td>37.85</td>\n",
       "      <td>52.0</td>\n",
       "      <td>919.0</td>\n",
       "      <td>213.0</td>\n",
       "      <td>413.0</td>\n",
       "      <td>193.0</td>\n",
       "      <td>4.0368</td>\n",
       "      <td>269700.0</td>\n",
       "      <td>NEAR BAY</td>\n",
       "    </tr>\n",
       "    <tr>\n",
       "      <th>...</th>\n",
       "      <td>...</td>\n",
       "      <td>...</td>\n",
       "      <td>...</td>\n",
       "      <td>...</td>\n",
       "      <td>...</td>\n",
       "      <td>...</td>\n",
       "      <td>...</td>\n",
       "      <td>...</td>\n",
       "      <td>...</td>\n",
       "      <td>...</td>\n",
       "    </tr>\n",
       "    <tr>\n",
       "      <th>20634</th>\n",
       "      <td>-121.56</td>\n",
       "      <td>39.27</td>\n",
       "      <td>28.0</td>\n",
       "      <td>2332.0</td>\n",
       "      <td>395.0</td>\n",
       "      <td>1041.0</td>\n",
       "      <td>344.0</td>\n",
       "      <td>3.7125</td>\n",
       "      <td>116800.0</td>\n",
       "      <td>INLAND</td>\n",
       "    </tr>\n",
       "    <tr>\n",
       "      <th>20635</th>\n",
       "      <td>-121.09</td>\n",
       "      <td>39.48</td>\n",
       "      <td>25.0</td>\n",
       "      <td>1665.0</td>\n",
       "      <td>374.0</td>\n",
       "      <td>845.0</td>\n",
       "      <td>330.0</td>\n",
       "      <td>1.5603</td>\n",
       "      <td>78100.0</td>\n",
       "      <td>INLAND</td>\n",
       "    </tr>\n",
       "    <tr>\n",
       "      <th>20636</th>\n",
       "      <td>-121.21</td>\n",
       "      <td>39.49</td>\n",
       "      <td>18.0</td>\n",
       "      <td>697.0</td>\n",
       "      <td>150.0</td>\n",
       "      <td>356.0</td>\n",
       "      <td>114.0</td>\n",
       "      <td>2.5568</td>\n",
       "      <td>77100.0</td>\n",
       "      <td>INLAND</td>\n",
       "    </tr>\n",
       "    <tr>\n",
       "      <th>20637</th>\n",
       "      <td>-121.22</td>\n",
       "      <td>39.43</td>\n",
       "      <td>17.0</td>\n",
       "      <td>2254.0</td>\n",
       "      <td>485.0</td>\n",
       "      <td>1007.0</td>\n",
       "      <td>433.0</td>\n",
       "      <td>1.7000</td>\n",
       "      <td>92300.0</td>\n",
       "      <td>INLAND</td>\n",
       "    </tr>\n",
       "    <tr>\n",
       "      <th>20638</th>\n",
       "      <td>-121.32</td>\n",
       "      <td>39.43</td>\n",
       "      <td>18.0</td>\n",
       "      <td>1860.0</td>\n",
       "      <td>409.0</td>\n",
       "      <td>741.0</td>\n",
       "      <td>349.0</td>\n",
       "      <td>1.8672</td>\n",
       "      <td>84700.0</td>\n",
       "      <td>INLAND</td>\n",
       "    </tr>\n",
       "  </tbody>\n",
       "</table>\n",
       "<p>20638 rows × 10 columns</p>\n",
       "</div>"
      ],
      "text/plain": [
       "       longitude  latitude  housing_median_age  total_rooms  total_bedrooms  \\\n",
       "1        -122.22     37.86                21.0       7099.0          1106.0   \n",
       "2        -122.24     37.85                52.0       1467.0           190.0   \n",
       "3        -122.25     37.85                52.0       1274.0           235.0   \n",
       "4        -122.25     37.85                52.0       1627.0           280.0   \n",
       "5        -122.25     37.85                52.0        919.0           213.0   \n",
       "...          ...       ...                 ...          ...             ...   \n",
       "20634    -121.56     39.27                28.0       2332.0           395.0   \n",
       "20635    -121.09     39.48                25.0       1665.0           374.0   \n",
       "20636    -121.21     39.49                18.0        697.0           150.0   \n",
       "20637    -121.22     39.43                17.0       2254.0           485.0   \n",
       "20638    -121.32     39.43                18.0       1860.0           409.0   \n",
       "\n",
       "       population  households  median_income  median_house_value  \\\n",
       "1          2401.0      1138.0         8.3014            358500.0   \n",
       "2           496.0       177.0         7.2574            352100.0   \n",
       "3           558.0       219.0         5.6431            341300.0   \n",
       "4           565.0       259.0         3.8462            342200.0   \n",
       "5           413.0       193.0         4.0368            269700.0   \n",
       "...           ...         ...            ...                 ...   \n",
       "20634      1041.0       344.0         3.7125            116800.0   \n",
       "20635       845.0       330.0         1.5603             78100.0   \n",
       "20636       356.0       114.0         2.5568             77100.0   \n",
       "20637      1007.0       433.0         1.7000             92300.0   \n",
       "20638       741.0       349.0         1.8672             84700.0   \n",
       "\n",
       "      ocean_proximity  \n",
       "1            NEAR BAY  \n",
       "2            NEAR BAY  \n",
       "3            NEAR BAY  \n",
       "4            NEAR BAY  \n",
       "5            NEAR BAY  \n",
       "...               ...  \n",
       "20634          INLAND  \n",
       "20635          INLAND  \n",
       "20636          INLAND  \n",
       "20637          INLAND  \n",
       "20638          INLAND  \n",
       "\n",
       "[20638 rows x 10 columns]"
      ]
     },
     "execution_count": 13,
     "metadata": {},
     "output_type": "execute_result"
    }
   ],
   "source": [
    "# drop also first and last row\n",
    "\n",
    "\n",
    "\n",
    "# now drop row by an index\n",
    "pd_dataset_copy = pd_dataset.drop([0])\n",
    "\n",
    "# droping last n rows\n",
    "n = 1\n",
    "pd_dataset_copy = pd_dataset_copy.drop(pd_dataset_copy.tail(n).index)\n",
    "\n",
    "pd_dataset_copy"
   ]
  },
  {
   "cell_type": "code",
   "execution_count": 14,
   "metadata": {
    "colab": {
     "base_uri": "https://localhost:8080/",
     "height": 286
    },
    "executionInfo": {
     "elapsed": 471,
     "status": "ok",
     "timestamp": 1675932244696,
     "user": {
      "displayName": "Jan Bolcek",
      "userId": "11245949610672084450"
     },
     "user_tz": -60
    },
    "id": "UZxT35lF60P6",
    "outputId": "1e4288fb-3410-4d9b-bb08-571aa55d3884"
   },
   "outputs": [
    {
     "data": {
      "text/plain": [
       "(0.0, 5000.0)"
      ]
     },
     "execution_count": 14,
     "metadata": {},
     "output_type": "execute_result"
    },
    {
     "data": {
      "image/png": "[encoded data removed]",
      "text/plain": [
       "<Figure size 432x288 with 1 Axes>"
      ]
     },
     "metadata": {
      "needs_background": "light"
     },
     "output_type": "display_data"
    }
   ],
   "source": [
    "# save mean of values in *households* columns to variable, \n",
    "# using *matplotlib* display number show number of household in graph (x axis would be ID, y axis - numbers of households)\n",
    "# as dots with the same colour, display also mean as a single line in the graph with different colour as dots is\n",
    "\n",
    "\n",
    "house_hold_mean = pd_dataset.describe()['households']['mean']\n",
    "\n",
    "\n",
    "plt.figure()\n",
    "plt.plot(pd_dataset['households'].to_numpy())\n",
    "plt.axhline(y = house_hold_mean, color = 'r', linestyle = '-')\n",
    "plt.grid()\n",
    "plt.xlim([0,3000])\n",
    "plt.ylim([0,5000])\n"
   ]
  },
  {
   "cell_type": "code",
   "execution_count": 15,
   "metadata": {
    "colab": {
     "base_uri": "https://localhost:8080/"
    },
    "executionInfo": {
     "elapsed": 251,
     "status": "ok",
     "timestamp": 1675929371965,
     "user": {
      "displayName": "Jan Bolcek",
      "userId": "11245949610672084450"
     },
     "user_tz": -60
    },
    "id": "Mux_sZcw73By",
    "outputId": "6acbe8ad-4f6f-4569-b0fe-f291044dae5a"
   },
   "outputs": [
    {
     "name": "stdout",
     "output_type": "stream",
     "text": [
      "Is any value null : True\n",
      "Total number of null values: 207\n",
      "-----------after filling-----------\n",
      "Is any value null : False\n",
      "Total number of null values: 0\n"
     ]
    },
    {
     "name": "stderr",
     "output_type": "stream",
     "text": [
      "/tmp/ipykernel_68152/1022284228.py:8: FutureWarning: Dropping of nuisance columns in DataFrame reductions (with 'numeric_only=None') is deprecated; in a future version this will raise TypeError.  Select only valid columns before calling the reduction.\n",
      "  mean_val = pd_dataset.mean().mean()  #mean of all values in dataset\n"
     ]
    }
   ],
   "source": [
    "#check if any of the columns contain NaN values, if yes, replace the NaN values with the arithmetic mean of the whole dataset\n",
    "\n",
    "\n",
    "print(f'Is any value null : {pd_dataset.isnull().values.any()}')\n",
    "print(f'Total number of null values: {pd_dataset.isnull().sum().sum()}')\n",
    "\n",
    "#fill nan values with a specific number\n",
    "mean_val = pd_dataset.mean().mean()  #mean of all values in dataset\n",
    "pd_new = pd_dataset.fillna(float(mean_val))\n",
    "print('-----------after filling-----------')\n",
    "print(f'Is any value null : {pd_new.isnull().values.any()}')\n",
    "print(f'Total number of null values: {pd_new.isnull().sum().sum()}')"
   ]
  },
  {
   "cell_type": "code",
   "execution_count": 16,
   "metadata": {},
   "outputs": [
    {
     "data": {
      "image/png": "[encoded data removed]",
      "text/plain": [
       "<Figure size 432x288 with 1 Axes>"
      ]
     },
     "metadata": {
      "needs_background": "light"
     },
     "output_type": "display_data"
    }
   ],
   "source": [
    "# display lat and long into plot, lat would be on x axis and long on y axis\n",
    "\n",
    "\n",
    "long_numpy = pd_dataset['longitude'].to_numpy()\n",
    "lat_numpy = pd_dataset['latitude'].to_numpy()\n",
    "\n",
    "plt.figure()\n",
    "plt.scatter(lat_numpy, long_numpy)\n",
    "plt.xlabel('latitude')\n",
    "plt.ylabel('longitude')\n",
    "plt.grid()"
   ]
  },
  {
   "cell_type": "code",
   "execution_count": 17,
   "metadata": {},
   "outputs": [
    {
     "data": {
      "text/html": [
       "<div>\n",
       "<style scoped>\n",
       "    .dataframe tbody tr th:only-of-type {\n",
       "        vertical-align: middle;\n",
       "    }\n",
       "\n",
       "    .dataframe tbody tr th {\n",
       "        vertical-align: top;\n",
       "    }\n",
       "\n",
       "    .dataframe thead th {\n",
       "        text-align: right;\n",
       "    }\n",
       "</style>\n",
       "<table border=\"1\" class=\"dataframe\">\n",
       "  <thead>\n",
       "    <tr style=\"text-align: right;\">\n",
       "      <th></th>\n",
       "      <th>longitude</th>\n",
       "      <th>latitude</th>\n",
       "      <th>housing_median_age</th>\n",
       "      <th>total_rooms</th>\n",
       "      <th>total_bedrooms</th>\n",
       "      <th>population</th>\n",
       "      <th>households</th>\n",
       "      <th>median_income</th>\n",
       "      <th>median_house_value</th>\n",
       "      <th>ocean_proximity</th>\n",
       "    </tr>\n",
       "  </thead>\n",
       "  <tbody>\n",
       "    <tr>\n",
       "      <th>0</th>\n",
       "      <td>-122.23</td>\n",
       "      <td>37.88</td>\n",
       "      <td>41.0</td>\n",
       "      <td>880.0</td>\n",
       "      <td>0.019863</td>\n",
       "      <td>322.0</td>\n",
       "      <td>126.0</td>\n",
       "      <td>0.539668</td>\n",
       "      <td>452600.0</td>\n",
       "      <td>NEAR BAY</td>\n",
       "    </tr>\n",
       "    <tr>\n",
       "      <th>1</th>\n",
       "      <td>-122.22</td>\n",
       "      <td>37.86</td>\n",
       "      <td>21.0</td>\n",
       "      <td>7099.0</td>\n",
       "      <td>0.171477</td>\n",
       "      <td>2401.0</td>\n",
       "      <td>1138.0</td>\n",
       "      <td>0.538027</td>\n",
       "      <td>358500.0</td>\n",
       "      <td>NEAR BAY</td>\n",
       "    </tr>\n",
       "    <tr>\n",
       "      <th>2</th>\n",
       "      <td>-122.24</td>\n",
       "      <td>37.85</td>\n",
       "      <td>52.0</td>\n",
       "      <td>1467.0</td>\n",
       "      <td>0.029330</td>\n",
       "      <td>496.0</td>\n",
       "      <td>177.0</td>\n",
       "      <td>0.466028</td>\n",
       "      <td>352100.0</td>\n",
       "      <td>NEAR BAY</td>\n",
       "    </tr>\n",
       "    <tr>\n",
       "      <th>3</th>\n",
       "      <td>-122.25</td>\n",
       "      <td>37.85</td>\n",
       "      <td>52.0</td>\n",
       "      <td>1274.0</td>\n",
       "      <td>0.036313</td>\n",
       "      <td>558.0</td>\n",
       "      <td>219.0</td>\n",
       "      <td>0.354699</td>\n",
       "      <td>341300.0</td>\n",
       "      <td>NEAR BAY</td>\n",
       "    </tr>\n",
       "    <tr>\n",
       "      <th>4</th>\n",
       "      <td>-122.25</td>\n",
       "      <td>37.85</td>\n",
       "      <td>52.0</td>\n",
       "      <td>1627.0</td>\n",
       "      <td>0.043296</td>\n",
       "      <td>565.0</td>\n",
       "      <td>259.0</td>\n",
       "      <td>0.230776</td>\n",
       "      <td>342200.0</td>\n",
       "      <td>NEAR BAY</td>\n",
       "    </tr>\n",
       "    <tr>\n",
       "      <th>...</th>\n",
       "      <td>...</td>\n",
       "      <td>...</td>\n",
       "      <td>...</td>\n",
       "      <td>...</td>\n",
       "      <td>...</td>\n",
       "      <td>...</td>\n",
       "      <td>...</td>\n",
       "      <td>...</td>\n",
       "      <td>...</td>\n",
       "      <td>...</td>\n",
       "    </tr>\n",
       "    <tr>\n",
       "      <th>20635</th>\n",
       "      <td>-121.09</td>\n",
       "      <td>39.48</td>\n",
       "      <td>25.0</td>\n",
       "      <td>1665.0</td>\n",
       "      <td>0.057883</td>\n",
       "      <td>845.0</td>\n",
       "      <td>330.0</td>\n",
       "      <td>0.073130</td>\n",
       "      <td>78100.0</td>\n",
       "      <td>INLAND</td>\n",
       "    </tr>\n",
       "    <tr>\n",
       "      <th>20636</th>\n",
       "      <td>-121.21</td>\n",
       "      <td>39.49</td>\n",
       "      <td>18.0</td>\n",
       "      <td>697.0</td>\n",
       "      <td>0.023122</td>\n",
       "      <td>356.0</td>\n",
       "      <td>114.0</td>\n",
       "      <td>0.141853</td>\n",
       "      <td>77100.0</td>\n",
       "      <td>INLAND</td>\n",
       "    </tr>\n",
       "    <tr>\n",
       "      <th>20637</th>\n",
       "      <td>-121.22</td>\n",
       "      <td>39.43</td>\n",
       "      <td>17.0</td>\n",
       "      <td>2254.0</td>\n",
       "      <td>0.075109</td>\n",
       "      <td>1007.0</td>\n",
       "      <td>433.0</td>\n",
       "      <td>0.082764</td>\n",
       "      <td>92300.0</td>\n",
       "      <td>INLAND</td>\n",
       "    </tr>\n",
       "    <tr>\n",
       "      <th>20638</th>\n",
       "      <td>-121.32</td>\n",
       "      <td>39.43</td>\n",
       "      <td>18.0</td>\n",
       "      <td>1860.0</td>\n",
       "      <td>0.063315</td>\n",
       "      <td>741.0</td>\n",
       "      <td>349.0</td>\n",
       "      <td>0.094295</td>\n",
       "      <td>84700.0</td>\n",
       "      <td>INLAND</td>\n",
       "    </tr>\n",
       "    <tr>\n",
       "      <th>20639</th>\n",
       "      <td>-121.24</td>\n",
       "      <td>39.37</td>\n",
       "      <td>16.0</td>\n",
       "      <td>2785.0</td>\n",
       "      <td>0.095438</td>\n",
       "      <td>1387.0</td>\n",
       "      <td>530.0</td>\n",
       "      <td>0.130253</td>\n",
       "      <td>89400.0</td>\n",
       "      <td>INLAND</td>\n",
       "    </tr>\n",
       "  </tbody>\n",
       "</table>\n",
       "<p>20640 rows × 10 columns</p>\n",
       "</div>"
      ],
      "text/plain": [
       "       longitude  latitude  housing_median_age  total_rooms  total_bedrooms  \\\n",
       "0        -122.23     37.88                41.0        880.0        0.019863   \n",
       "1        -122.22     37.86                21.0       7099.0        0.171477   \n",
       "2        -122.24     37.85                52.0       1467.0        0.029330   \n",
       "3        -122.25     37.85                52.0       1274.0        0.036313   \n",
       "4        -122.25     37.85                52.0       1627.0        0.043296   \n",
       "...          ...       ...                 ...          ...             ...   \n",
       "20635    -121.09     39.48                25.0       1665.0        0.057883   \n",
       "20636    -121.21     39.49                18.0        697.0        0.023122   \n",
       "20637    -121.22     39.43                17.0       2254.0        0.075109   \n",
       "20638    -121.32     39.43                18.0       1860.0        0.063315   \n",
       "20639    -121.24     39.37                16.0       2785.0        0.095438   \n",
       "\n",
       "       population  households  median_income  median_house_value  \\\n",
       "0           322.0       126.0       0.539668            452600.0   \n",
       "1          2401.0      1138.0       0.538027            358500.0   \n",
       "2           496.0       177.0       0.466028            352100.0   \n",
       "3           558.0       219.0       0.354699            341300.0   \n",
       "4           565.0       259.0       0.230776            342200.0   \n",
       "...           ...         ...            ...                 ...   \n",
       "20635       845.0       330.0       0.073130             78100.0   \n",
       "20636       356.0       114.0       0.141853             77100.0   \n",
       "20637      1007.0       433.0       0.082764             92300.0   \n",
       "20638       741.0       349.0       0.094295             84700.0   \n",
       "20639      1387.0       530.0       0.130253             89400.0   \n",
       "\n",
       "      ocean_proximity  \n",
       "0            NEAR BAY  \n",
       "1            NEAR BAY  \n",
       "2            NEAR BAY  \n",
       "3            NEAR BAY  \n",
       "4            NEAR BAY  \n",
       "...               ...  \n",
       "20635          INLAND  \n",
       "20636          INLAND  \n",
       "20637          INLAND  \n",
       "20638          INLAND  \n",
       "20639          INLAND  \n",
       "\n",
       "[20640 rows x 10 columns]"
      ]
     },
     "execution_count": 17,
     "metadata": {},
     "output_type": "execute_result"
    }
   ],
   "source": [
    "# choose two arbitrary columns and normalize all values inside using min-max normalization:\n",
    "\n",
    "\n",
    "def normalize_columns(column: pd.Series) -> pd.Series:\n",
    "    return (column-column.min())/(column.max()-column.min())\n",
    "\n",
    "\n",
    "#firstly normalize columns\n",
    "normalized_col_1 = normalize_columns(pd_dataset['total_bedrooms'])\n",
    "normalized_col_2 = normalize_columns(pd_dataset['median_income'])\n",
    "\n",
    "\n",
    "#replace values by normalizes values\n",
    "pd_dataset['total_bedrooms'] = normalized_col_1.values\n",
    "pd_dataset['median_income'] = normalized_col_2.values\n",
    "\n",
    "pd_dataset"
   ]
  },
  {
   "cell_type": "code",
   "execution_count": 18,
   "metadata": {},
   "outputs": [
    {
     "data": {
      "text/html": [
       "<div>\n",
       "<style scoped>\n",
       "    .dataframe tbody tr th:only-of-type {\n",
       "        vertical-align: middle;\n",
       "    }\n",
       "\n",
       "    .dataframe tbody tr th {\n",
       "        vertical-align: top;\n",
       "    }\n",
       "\n",
       "    .dataframe thead th {\n",
       "        text-align: right;\n",
       "    }\n",
       "</style>\n",
       "<table border=\"1\" class=\"dataframe\">\n",
       "  <thead>\n",
       "    <tr style=\"text-align: right;\">\n",
       "      <th></th>\n",
       "      <th>longitude</th>\n",
       "      <th>latitude</th>\n",
       "      <th>housing_median_age</th>\n",
       "      <th>total_rooms</th>\n",
       "      <th>total_bedrooms</th>\n",
       "      <th>population</th>\n",
       "      <th>households</th>\n",
       "      <th>median_income</th>\n",
       "      <th>median_house_value</th>\n",
       "    </tr>\n",
       "  </thead>\n",
       "  <tbody>\n",
       "    <tr>\n",
       "      <th>longitude</th>\n",
       "      <td>1.000000</td>\n",
       "      <td>-0.924664</td>\n",
       "      <td>-0.108197</td>\n",
       "      <td>0.044568</td>\n",
       "      <td>0.069608</td>\n",
       "      <td>0.099773</td>\n",
       "      <td>0.055310</td>\n",
       "      <td>-0.015176</td>\n",
       "      <td>-0.045967</td>\n",
       "    </tr>\n",
       "    <tr>\n",
       "      <th>latitude</th>\n",
       "      <td>-0.924664</td>\n",
       "      <td>1.000000</td>\n",
       "      <td>0.011173</td>\n",
       "      <td>-0.036100</td>\n",
       "      <td>-0.066983</td>\n",
       "      <td>-0.108785</td>\n",
       "      <td>-0.071035</td>\n",
       "      <td>-0.079809</td>\n",
       "      <td>-0.144160</td>\n",
       "    </tr>\n",
       "    <tr>\n",
       "      <th>housing_median_age</th>\n",
       "      <td>-0.108197</td>\n",
       "      <td>0.011173</td>\n",
       "      <td>1.000000</td>\n",
       "      <td>-0.361262</td>\n",
       "      <td>-0.320451</td>\n",
       "      <td>-0.296244</td>\n",
       "      <td>-0.302916</td>\n",
       "      <td>-0.119034</td>\n",
       "      <td>0.105623</td>\n",
       "    </tr>\n",
       "    <tr>\n",
       "      <th>total_rooms</th>\n",
       "      <td>0.044568</td>\n",
       "      <td>-0.036100</td>\n",
       "      <td>-0.361262</td>\n",
       "      <td>1.000000</td>\n",
       "      <td>0.930380</td>\n",
       "      <td>0.857126</td>\n",
       "      <td>0.918484</td>\n",
       "      <td>0.198050</td>\n",
       "      <td>0.134153</td>\n",
       "    </tr>\n",
       "    <tr>\n",
       "      <th>total_bedrooms</th>\n",
       "      <td>0.069608</td>\n",
       "      <td>-0.066983</td>\n",
       "      <td>-0.320451</td>\n",
       "      <td>0.930380</td>\n",
       "      <td>1.000000</td>\n",
       "      <td>0.877747</td>\n",
       "      <td>0.979728</td>\n",
       "      <td>-0.007723</td>\n",
       "      <td>0.049686</td>\n",
       "    </tr>\n",
       "    <tr>\n",
       "      <th>population</th>\n",
       "      <td>0.099773</td>\n",
       "      <td>-0.108785</td>\n",
       "      <td>-0.296244</td>\n",
       "      <td>0.857126</td>\n",
       "      <td>0.877747</td>\n",
       "      <td>1.000000</td>\n",
       "      <td>0.907222</td>\n",
       "      <td>0.004834</td>\n",
       "      <td>-0.024650</td>\n",
       "    </tr>\n",
       "    <tr>\n",
       "      <th>households</th>\n",
       "      <td>0.055310</td>\n",
       "      <td>-0.071035</td>\n",
       "      <td>-0.302916</td>\n",
       "      <td>0.918484</td>\n",
       "      <td>0.979728</td>\n",
       "      <td>0.907222</td>\n",
       "      <td>1.000000</td>\n",
       "      <td>0.013033</td>\n",
       "      <td>0.065843</td>\n",
       "    </tr>\n",
       "    <tr>\n",
       "      <th>median_income</th>\n",
       "      <td>-0.015176</td>\n",
       "      <td>-0.079809</td>\n",
       "      <td>-0.119034</td>\n",
       "      <td>0.198050</td>\n",
       "      <td>-0.007723</td>\n",
       "      <td>0.004834</td>\n",
       "      <td>0.013033</td>\n",
       "      <td>1.000000</td>\n",
       "      <td>0.688075</td>\n",
       "    </tr>\n",
       "    <tr>\n",
       "      <th>median_house_value</th>\n",
       "      <td>-0.045967</td>\n",
       "      <td>-0.144160</td>\n",
       "      <td>0.105623</td>\n",
       "      <td>0.134153</td>\n",
       "      <td>0.049686</td>\n",
       "      <td>-0.024650</td>\n",
       "      <td>0.065843</td>\n",
       "      <td>0.688075</td>\n",
       "      <td>1.000000</td>\n",
       "    </tr>\n",
       "  </tbody>\n",
       "</table>\n",
       "</div>"
      ],
      "text/plain": [
       "                    longitude  latitude  housing_median_age  total_rooms  \\\n",
       "longitude            1.000000 -0.924664           -0.108197     0.044568   \n",
       "latitude            -0.924664  1.000000            0.011173    -0.036100   \n",
       "housing_median_age  -0.108197  0.011173            1.000000    -0.361262   \n",
       "total_rooms          0.044568 -0.036100           -0.361262     1.000000   \n",
       "total_bedrooms       0.069608 -0.066983           -0.320451     0.930380   \n",
       "population           0.099773 -0.108785           -0.296244     0.857126   \n",
       "households           0.055310 -0.071035           -0.302916     0.918484   \n",
       "median_income       -0.015176 -0.079809           -0.119034     0.198050   \n",
       "median_house_value  -0.045967 -0.144160            0.105623     0.134153   \n",
       "\n",
       "                    total_bedrooms  population  households  median_income  \\\n",
       "longitude                 0.069608    0.099773    0.055310      -0.015176   \n",
       "latitude                 -0.066983   -0.108785   -0.071035      -0.079809   \n",
       "housing_median_age       -0.320451   -0.296244   -0.302916      -0.119034   \n",
       "total_rooms               0.930380    0.857126    0.918484       0.198050   \n",
       "total_bedrooms            1.000000    0.877747    0.979728      -0.007723   \n",
       "population                0.877747    1.000000    0.907222       0.004834   \n",
       "households                0.979728    0.907222    1.000000       0.013033   \n",
       "median_income            -0.007723    0.004834    0.013033       1.000000   \n",
       "median_house_value        0.049686   -0.024650    0.065843       0.688075   \n",
       "\n",
       "                    median_house_value  \n",
       "longitude                    -0.045967  \n",
       "latitude                     -0.144160  \n",
       "housing_median_age            0.105623  \n",
       "total_rooms                   0.134153  \n",
       "total_bedrooms                0.049686  \n",
       "population                   -0.024650  \n",
       "households                    0.065843  \n",
       "median_income                 0.688075  \n",
       "median_house_value            1.000000  "
      ]
     },
     "execution_count": 18,
     "metadata": {},
     "output_type": "execute_result"
    }
   ],
   "source": [
    "# Create a Correlation Matrix from all columns\n",
    "\n",
    "corrM = pd_dataset.corr()\n",
    "corrM"
   ]
  }
 ],
 "metadata": {
  "colab": {
   "authorship_tag": "ABX9TyP5/svLy2I8/7OWuE8a5kQJ",
   "provenance": []
  },
  "kernelspec": {
   "display_name": "Python 3 (ipykernel)",
   "language": "python",
   "name": "python3"
  },
  "language_info": {
   "codemirror_mode": {
    "name": "ipython",
    "version": 3
   },
   "file_extension": ".py",
   "mimetype": "text/x-python",
   "name": "python",
   "nbconvert_exporter": "python",
   "pygments_lexer": "ipython3",
   "version": "3.8.10"
  }
 },
 "nbformat": 4,
 "nbformat_minor": 4
}
