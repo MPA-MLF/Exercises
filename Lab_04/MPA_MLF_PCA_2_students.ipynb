{
  "nbformat": 4,
  "nbformat_minor": 0,
  "metadata": {
    "colab": {
      "provenance": []
    },
    "kernelspec": {
      "name": "python3",
      "display_name": "Python 3"
    },
    "language_info": {
      "name": "python"
    }
  },
  "cells": [
    {
      "cell_type": "markdown",
      "source": [
        "# PCA through Singular Value Decomposition"
      ],
      "metadata": {
        "id": "3o6JMoeFZDzB"
      }
    },
    {
      "cell_type": "markdown",
      "source": [],
      "metadata": {
        "id": "qS9otgsuZCYy"
      }
    },
    {
      "cell_type": "code",
      "execution_count": null,
      "metadata": {
        "colab": {
          "base_uri": "https://localhost:8080/"
        },
        "id": "qMBJpNsDJMB2",
        "outputId": "3155670c-b0fc-4a9f-967e-76f62eff516b"
      },
      "outputs": [
        {
          "output_type": "stream",
          "name": "stdout",
          "text": [
            "[[1.80720735 1.27357371 0.        ]\n",
            " [4.08528566 2.87897923 0.        ]]\n"
          ]
        }
      ],
      "source": [
        "import numpy as np\n",
        "# Defined 3 points in 2D-space:\n",
        "X=np.array([[2, 1, 0],[4, 3, 0]])\n",
        "# Calculate the covariance matrix:\n",
        "\n",
        "# Calculate the SVD decomposition and new basis vectors:\n",
        "[U,D,V]=np.linalg.svd(R)  # call SVD decomposition\n",
        "u1=U[:,0] # new basis vectors\n",
        "u2=U[:,1]\n",
        "\n",
        "# Calculate the coordinates in new orthonormal basis:\n",
        "\n",
        "# Calculate the approximation of the original from new basis\n",
        "#print(Xi1[:,None]) # add second dimention to array and test it\n",
        "\n",
        "\n",
        "# Check that you got the original\n"
      ]
    },
    {
      "cell_type": "markdown",
      "source": [
        "# PCA on Iris data"
      ],
      "metadata": {
        "id": "192DRCBxZLme"
      }
    },
    {
      "cell_type": "code",
      "source": [
        "# Load Iris dataset as in the last PC lab:\n",
        "from sklearn.datasets import load_iris\n",
        "iris=load_iris()\n",
        "iris.feature_names\n",
        "print(iris.feature_names)\n",
        "print(iris.data[0:5,:])\n",
        "print(iris.target[:])"
      ],
      "metadata": {
        "id": "QOx-lPpVfbZ2"
      },
      "execution_count": null,
      "outputs": []
    },
    {
      "cell_type": "code",
      "source": [
        "# We have 4 dimensions of data, plot the first three colums in 3D\n",
        "X=iris.data\n",
        "y=iris.target\n",
        "import matplotlib.pyplot as plt\n",
        "axes1=plt.axes(projection='3d')\n",
        "axes1.scatter3D(X[y==0,1],X[y==0,1],X[y==0,2],color='green')\n",
        "axes1.scatter3D(X[y==1,1],X[y==1,1],X[y==1,2],color='blue')\n",
        "axes1.scatter3D(X[y==2,1],X[y==2,1],X[y==2,2],color='magenta')\n",
        "plt.show\n"
      ],
      "metadata": {
        "id": "8Oz3nlln8fOd"
      },
      "execution_count": null,
      "outputs": []
    },
    {
      "cell_type": "code",
      "source": [
        "# Pre-processing is an important step, you can try either StandardScaler (zero mean, unit variance of features)\n",
        "# or MinMaxScaler (to interval from 0 to 1)\n",
        "from sklearn import preprocessing\n",
        "from sklearn.preprocessing import StandardScaler\n",
        "Xscaler = StandardScaler()\n",
        "Xpp=Xscaler.fit_transform(X)\n",
        "\n",
        "# define PCA object (three components), fit and transform the data\n",
        "pca = decomposition.PCA(n_components=3)\n",
        "pca.fit(Xpp)\n",
        "Xpca = pca.transform(Xpp)\n",
        "print(pca.get_covariance())\n",
        "# you can plot the transformed feature space in 3D:\n",
        "axes2=plt.axes(projection='3d')\n",
        "axes2.scatter3D(Xpca[y==0,0],Xpca[y==0,1],Xpca[y==0,2],color='green')\n",
        "axes2.scatter3D(Xpca[y==1,0],Xpca[y==1,1],Xpca[y==1,2],color='blue')\n",
        "axes2.scatter3D(Xpca[y==2,0],Xpca[y==2,1],Xpca[y==2,2],color='magenta')\n",
        "plt.show\n"
      ],
      "metadata": {
        "id": "uChB52LcAp5q"
      },
      "execution_count": null,
      "outputs": []
    },
    {
      "cell_type": "code",
      "source": [
        "# Compute pca.explained_variance_ and pca.explained_cariance_ratio_values\n",
        "pca.explained_variance_"
      ],
      "metadata": {
        "colab": {
          "base_uri": "https://localhost:8080/"
        },
        "id": "8ichkTAsH8yg",
        "outputId": "14c62de0-6a7b-4bd3-9753-e307d2cbad7c"
      },
      "execution_count": null,
      "outputs": [
        {
          "output_type": "execute_result",
          "data": {
            "text/plain": [
              "array([2.93808505, 0.9201649 , 0.14774182])"
            ]
          },
          "metadata": {},
          "execution_count": 336
        }
      ]
    },
    {
      "cell_type": "code",
      "source": [
        "pca.explained_variance_ratio_"
      ],
      "metadata": {
        "colab": {
          "base_uri": "https://localhost:8080/"
        },
        "id": "GuWfGxtUIOQM",
        "outputId": "3d96e9cc-9244-4b61-ab36-afde47b85a5c"
      },
      "execution_count": null,
      "outputs": [
        {
          "output_type": "execute_result",
          "data": {
            "text/plain": [
              "array([0.72962445, 0.22850762, 0.03668922])"
            ]
          },
          "metadata": {},
          "execution_count": 337
        }
      ]
    },
    {
      "cell_type": "code",
      "source": [
        "# Plot the principal components in 2D, mark different targets in color\n"
      ],
      "metadata": {
        "colab": {
          "base_uri": "https://localhost:8080/",
          "height": 282
        },
        "id": "ThAl0rnHJ-cz",
        "outputId": "9254c8aa-98f0-4442-8540-50c857735ea2"
      },
      "execution_count": null,
      "outputs": [
        {
          "output_type": "execute_result",
          "data": {
            "text/plain": [
              "<matplotlib.collections.PathCollection at 0x7f3e765e5130>"
            ]
          },
          "metadata": {},
          "execution_count": 338
        },
        {
          "output_type": "display_data",
          "data": {
            "text/plain": [
              "<Figure size 432x288 with 1 Axes>"
            ],
            "image/png": "[encoded data removed]"
          },
          "metadata": {
            "needs_background": "light"
          }
        }
      ]
    },
    {
      "cell_type": "markdown",
      "source": [
        "# KNN classifier"
      ],
      "metadata": {
        "id": "AwLpxYmgY9xK"
      }
    },
    {
      "cell_type": "code",
      "source": [
        "# Import train_test_split as in last PC lab, split X (original) into train and test, train KNN classifier on full 4-dimensional X\n",
        "\n",
        "from sklearn.neighbors import KNeighborsClassifier\n",
        "knn1=KNeighborsClassifier(n_neighbors = 3)\n",
        "knn1.fit(,)\n",
        "Ypred=knn1.predict()\n",
        "# Import and show confusion matrix\n",
        "from sklearn.metrics import confusion_matrix\n",
        "from sklearn.metrics import ConfusionMatrixDisplay\n",
        "confusion_matrix(,)\n",
        "ConfusionMatrixDisplay.from_predictions(,)\n",
        "\n"
      ],
      "metadata": {
        "colab": {
          "base_uri": "https://localhost:8080/",
          "height": 335
        },
        "id": "cTfzk7fHNecJ",
        "outputId": "2e92e8cc-cf03-41d9-9839-b56f747b933d"
      },
      "execution_count": null,
      "outputs": [
        {
          "output_type": "stream",
          "name": "stdout",
          "text": [
            "(105, 4)\n",
            "(45, 4)\n"
          ]
        },
        {
          "output_type": "execute_result",
          "data": {
            "text/plain": [
              "<sklearn.metrics._plot.confusion_matrix.ConfusionMatrixDisplay at 0x7f3e775eef70>"
            ]
          },
          "metadata": {},
          "execution_count": 358
        },
        {
          "output_type": "display_data",
          "data": {
            "text/plain": [
              "<Figure size 432x288 with 2 Axes>"
            ],
            "image/png": "[encoded data removed]"
          },
          "metadata": {
            "needs_background": "light"
          }
        }
      ]
    },
    {
      "cell_type": "code",
      "source": [
        "# Now do the same (data set split, KNN, confusion matrix), but for PCA-transformed data (1st two principal components, i.e., first two columns). \n",
        "# Compare the results with full dataset\n"
      ],
      "metadata": {
        "id": "4yDXwutPQjVC"
      },
      "execution_count": null,
      "outputs": []
    },
    {
      "cell_type": "code",
      "source": [
        "# Now do the same, but use only 2-dimensional data of original X (first two columns)\n"
      ],
      "metadata": {
        "id": "M4xETx1sRbll"
      },
      "execution_count": null,
      "outputs": []
    }
  ]
}