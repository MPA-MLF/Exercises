{
  "cells": [
    {
      "cell_type": "markdown",
      "source": [
        "# SVM for classification"
      ],
      "metadata": {
        "id": "qpzybxGIwnuz"
      }
    },
    {
      "cell_type": "markdown",
      "source": [
        "Load IRIS dataset, check its contents:\n"
      ],
      "metadata": {
        "id": "eMcpNqv-uk-K"
      }
    },
    {
      "cell_type": "code",
      "execution_count": null,
      "metadata": {
        "colab": {
          "base_uri": "https://localhost:8080/"
        },
        "id": "0Pw3iTT7-brT",
        "outputId": "a0abec69-5c50-41a3-f49a-1daeb8403341"
      },
      "outputs": [
        {
          "output_type": "stream",
          "name": "stdout",
          "text": [
            "['sepal length (cm)', 'sepal width (cm)', 'petal length (cm)', 'petal width (cm)']\n",
            "[[5.1 3.5 1.4 0.2]\n",
            " [4.9 3.  1.4 0.2]\n",
            " [4.7 3.2 1.3 0.2]\n",
            " [4.6 3.1 1.5 0.2]\n",
            " [5.  3.6 1.4 0.2]]\n",
            "[0 0 0 0 0]\n"
          ]
        }
      ],
      "source": [
        "from sklearn.datasets import load_iris\n",
        "iris=load_iris()\n",
        "iris.feature_names\n",
        "print(iris.feature_names)\n",
        "print(iris.data[0:5,:])\n",
        "print(iris.target[0:5])\n",
        "#print(iris.data)"
      ]
    },
    {
      "cell_type": "markdown",
      "source": [
        "Split data into training and testing parts:"
      ],
      "metadata": {
        "id": "H5VBL_QBussh"
      }
    },
    {
      "cell_type": "code",
      "source": [
        "from sklearn.model_selection import train_test_split\n",
        "X=iris.data\n",
        "y=iris.target\n",
        "X_train, X_test, y_train, y_test = train_test_split(X,y,test_size=0.2)\n",
        "print(X_train.shape)\n",
        "print(X_test.shape)"
      ],
      "metadata": {
        "id": "rDk-PobDtp7b",
        "outputId": "2a5dfeca-2a34-4910-928c-b90dd538536c",
        "colab": {
          "base_uri": "https://localhost:8080/"
        }
      },
      "execution_count": null,
      "outputs": [
        {
          "output_type": "stream",
          "name": "stdout",
          "text": [
            "(120, 4)\n",
            "(30, 4)\n"
          ]
        }
      ]
    },
    {
      "cell_type": "markdown",
      "source": [
        "Use a Support Vector Machine for classification:\n"
      ],
      "metadata": {
        "id": "3hjR3_OOuzZO"
      }
    },
    {
      "cell_type": "code",
      "source": [
        "from sklearn.svm import SVC\n",
        "SVMmodel=SVC(kernel='linear')\n",
        "SVMmodel.fit(X_train,y_train)\n",
        "SVMmodel.get_params()\n",
        "SVMmodel.score(X_test,y_test)"
      ],
      "metadata": {
        "id": "XKbwK1yht2In",
        "outputId": "8627d473-c57e-4429-d3c7-3a010a18ba74",
        "colab": {
          "base_uri": "https://localhost:8080/"
        }
      },
      "execution_count": null,
      "outputs": [
        {
          "output_type": "execute_result",
          "data": {
            "text/plain": [
              "1.0"
            ]
          },
          "metadata": {},
          "execution_count": 91
        }
      ]
    },
    {
      "cell_type": "markdown",
      "source": [
        "Let's explore more now. \n",
        "\n",
        "*   Choose only first two features (columns) of iris.data\n",
        "*   SVM is in its basic form a 2-class classifier, so eliminate iris.target =2 from the data\n",
        "\n"
      ],
      "metadata": {
        "id": "XlCNzZsau7gg"
      }
    },
    {
      "cell_type": "code",
      "execution_count": null,
      "metadata": {
        "id": "nYdW9o1GhwFA"
      },
      "outputs": [],
      "source": []
    },
    {
      "cell_type": "markdown",
      "source": [
        "Plot scatterplots of targets 0 and 1 and check the separability of the classes:"
      ],
      "metadata": {
        "id": "Vx6fPm3KvlyH"
      }
    },
    {
      "cell_type": "code",
      "source": [
        "import matplotlib.pyplot as plt \n"
      ],
      "metadata": {
        "id": "flQWBul_ZYjK"
      },
      "execution_count": null,
      "outputs": []
    },
    {
      "cell_type": "markdown",
      "source": [
        "Train and test the SVM classifier, play with regularization parameter C (either use the default value or try e.g. 200)"
      ],
      "metadata": {
        "id": "mu3qUUvHv1TP"
      }
    },
    {
      "cell_type": "code",
      "execution_count": null,
      "metadata": {
        "id": "HOo58lvZo_Lf"
      },
      "outputs": [],
      "source": []
    },
    {
      "cell_type": "markdown",
      "source": [],
      "metadata": {
        "id": "vpOHSYlCwdED"
      }
    },
    {
      "cell_type": "markdown",
      "source": [
        "Show support vectors in the 2D plot, plot the decision line from equation [w0 w1]*[x0 x1] + b = 0:"
      ],
      "metadata": {
        "id": "MshE_3pPwceK"
      }
    },
    {
      "cell_type": "code",
      "execution_count": null,
      "metadata": {
        "colab": {
          "base_uri": "https://localhost:8080/",
          "height": 235
        },
        "id": "MkZj_qEMvHeY",
        "outputId": "8ce5eb94-f2c8-4169-9894-80aac2daf302"
      },
      "outputs": [
        {
          "output_type": "error",
          "ename": "NameError",
          "evalue": "ignored",
          "traceback": [
            "\u001b[0;31m---------------------------------------------------------------------------\u001b[0m",
            "\u001b[0;31mNameError\u001b[0m                                 Traceback (most recent call last)",
            "\u001b[0;32m<ipython-input-2-0b43695d48ae>\u001b[0m in \u001b[0;36m<module>\u001b[0;34m\u001b[0m\n\u001b[0;32m----> 1\u001b[0;31m \u001b[0msupvectors\u001b[0m\u001b[0;34m=\u001b[0m\u001b[0mSVMmodel\u001b[0m\u001b[0;34m.\u001b[0m\u001b[0msupport_vectors_\u001b[0m\u001b[0;34m\u001b[0m\u001b[0;34m\u001b[0m\u001b[0m\n\u001b[0m\u001b[1;32m      2\u001b[0m \u001b[0;31m# Plot the support vectors here\u001b[0m\u001b[0;34m\u001b[0m\u001b[0;34m\u001b[0m\u001b[0;34m\u001b[0m\u001b[0m\n\u001b[1;32m      3\u001b[0m \u001b[0;34m\u001b[0m\u001b[0m\n\u001b[1;32m      4\u001b[0m \u001b[0;34m\u001b[0m\u001b[0m\n\u001b[1;32m      5\u001b[0m \u001b[0;31m#Separating line coefficients:\u001b[0m\u001b[0;34m\u001b[0m\u001b[0;34m\u001b[0m\u001b[0;34m\u001b[0m\u001b[0m\n",
            "\u001b[0;31mNameError\u001b[0m: name 'SVMmodel' is not defined"
          ]
        }
      ],
      "source": [
        "supvectors=SVMmodel.support_vectors_\n",
        "# Plot the support vectors here\n",
        "\n",
        "\n",
        "#Separating line coefficients:\n",
        "W=SVMmodel.coef_\n",
        "b=SVMmodel.intercept_\n"
      ]
    },
    {
      "cell_type": "markdown",
      "metadata": {
        "id": "TR9Kkzlrx6Pl"
      },
      "source": [
        "# Anomaly detection via SVM"
      ]
    },
    {
      "cell_type": "markdown",
      "source": [
        "Import one-class SVM and generate data (Gaussian blobs in 2D-plane):"
      ],
      "metadata": {
        "id": "D6e44AnXmxZi"
      }
    },
    {
      "cell_type": "code",
      "source": [
        "from sklearn.svm import OneClassSVM\n",
        "from sklearn.datasets import make_blobs\n",
        "from numpy import quantile, where, random\n",
        "\n",
        "random.seed(11)\n",
        "x, _ = make_blobs(n_samples=300, centers=1, cluster_std=.3, center_box=(4, 4))\n",
        "\n",
        "plt.scatter(x[:,0], x[:,1])\n",
        "plt.show()\n",
        "\n"
      ],
      "metadata": {
        "colab": {
          "base_uri": "https://localhost:8080/",
          "height": 265
        },
        "id": "kA9NeGTXm2Ry",
        "outputId": "9a3e0733-183d-4c18-bc7a-a04d40cb919c"
      },
      "execution_count": null,
      "outputs": [
        {
          "output_type": "display_data",
          "data": {
            "text/plain": [
              "<Figure size 432x288 with 1 Axes>"
            ],
            "image/png": "[encoded data removed]"
          },
          "metadata": {
            "needs_background": "light"
          }
        }
      ]
    },
    {
      "cell_type": "markdown",
      "source": [
        "Train one-class SVM and plot the outliers (outputs of prediction being equal to -1)"
      ],
      "metadata": {
        "id": "HrWy_Y9Sw41V"
      }
    },
    {
      "cell_type": "code",
      "source": [
        "SVMmodelOne = OneClassSVM(kernel='rbf', gamma=0.001, nu=0.03)\n",
        "\n",
        "\n",
        "SVMmodelOne.fit(x)\n",
        "pred = SVMmodelOne.predict(x)\n",
        "anom_index = where(pred==-1)\n",
        "values = x[anom_index]\n",
        "\n",
        "plt.scatter(x[:,0], x[:,1])\n",
        "plt.scatter(values[:,0], values[:,1], color='red')\n",
        "plt.axis('equal')\n",
        "plt.show()\n",
        "\n"
      ],
      "metadata": {
        "id": "esEEn-KqoZic",
        "outputId": "2c0020b0-06d9-4a85-9420-26c8ca5c76a8",
        "colab": {
          "base_uri": "https://localhost:8080/",
          "height": 265
        }
      },
      "execution_count": null,
      "outputs": [
        {
          "output_type": "display_data",
          "data": {
            "text/plain": [
              "<Figure size 432x288 with 1 Axes>"
            ],
            "image/png": "[encoded data removed]"
          },
          "metadata": {
            "needs_background": "light"
          }
        }
      ]
    },
    {
      "cell_type": "markdown",
      "source": [
        "Plot the support vectors:"
      ],
      "metadata": {
        "id": "kIZmSPRGxNRK"
      }
    },
    {
      "cell_type": "code",
      "source": [],
      "metadata": {
        "id": "RJcyvEHKsR8T"
      },
      "execution_count": null,
      "outputs": []
    },
    {
      "cell_type": "markdown",
      "source": [
        "What if we want to have a control what is outlier? Use e.g. 5% \"quantile\" to mark the outliers. Every point with lower score than threshold will be an outlier."
      ],
      "metadata": {
        "id": "VbEUVj8RxS1p"
      }
    },
    {
      "cell_type": "code",
      "source": [
        "scores = SVMmodelOne.score_samples(x)\n",
        "\n",
        "thresh = quantile(scores, 0.01)\n",
        "print(thresh)\n",
        "index = where(scores<=thresh)\n",
        "values = x[index]\n",
        "\n",
        "plt.scatter(x[:,0], x[:,1])\n",
        "plt.scatter(values[:,0], values[:,1], color='red')\n",
        "plt.axis('equal')\n",
        "plt.show()"
      ],
      "metadata": {
        "id": "DQzxxUePs6sN",
        "outputId": "4793cfe0-625f-4479-d6ed-a22c3c084b05",
        "colab": {
          "base_uri": "https://localhost:8080/",
          "height": 235
        }
      },
      "execution_count": null,
      "outputs": [
        {
          "output_type": "error",
          "ename": "NameError",
          "evalue": "ignored",
          "traceback": [
            "\u001b[0;31m---------------------------------------------------------------------------\u001b[0m",
            "\u001b[0;31mNameError\u001b[0m                                 Traceback (most recent call last)",
            "\u001b[0;32m<ipython-input-3-96497469aca6>\u001b[0m in \u001b[0;36m<module>\u001b[0;34m\u001b[0m\n\u001b[0;32m----> 1\u001b[0;31m \u001b[0mscores\u001b[0m \u001b[0;34m=\u001b[0m \u001b[0mSVMmodelOne\u001b[0m\u001b[0;34m.\u001b[0m\u001b[0mscore_samples\u001b[0m\u001b[0;34m(\u001b[0m\u001b[0mx\u001b[0m\u001b[0;34m)\u001b[0m\u001b[0;34m\u001b[0m\u001b[0;34m\u001b[0m\u001b[0m\n\u001b[0m\u001b[1;32m      2\u001b[0m \u001b[0;34m\u001b[0m\u001b[0m\n\u001b[1;32m      3\u001b[0m \u001b[0mthresh\u001b[0m \u001b[0;34m=\u001b[0m \u001b[0mquantile\u001b[0m\u001b[0;34m(\u001b[0m\u001b[0mscores\u001b[0m\u001b[0;34m,\u001b[0m \u001b[0;36m0.01\u001b[0m\u001b[0;34m)\u001b[0m\u001b[0;34m\u001b[0m\u001b[0;34m\u001b[0m\u001b[0m\n\u001b[1;32m      4\u001b[0m \u001b[0mprint\u001b[0m\u001b[0;34m(\u001b[0m\u001b[0mthresh\u001b[0m\u001b[0;34m)\u001b[0m\u001b[0;34m\u001b[0m\u001b[0;34m\u001b[0m\u001b[0m\n\u001b[1;32m      5\u001b[0m \u001b[0mindex\u001b[0m \u001b[0;34m=\u001b[0m \u001b[0mwhere\u001b[0m\u001b[0;34m(\u001b[0m\u001b[0mscores\u001b[0m\u001b[0;34m<=\u001b[0m\u001b[0mthresh\u001b[0m\u001b[0;34m)\u001b[0m\u001b[0;34m\u001b[0m\u001b[0;34m\u001b[0m\u001b[0m\n",
            "\u001b[0;31mNameError\u001b[0m: name 'SVMmodelOne' is not defined"
          ]
        }
      ]
    }
  ],
  "metadata": {
    "colab": {
      "provenance": [],
      "toc_visible": true
    },
    "kernelspec": {
      "display_name": "Python 3",
      "name": "python3"
    },
    "language_info": {
      "name": "python"
    }
  },
  "nbformat": 4,
  "nbformat_minor": 0
}